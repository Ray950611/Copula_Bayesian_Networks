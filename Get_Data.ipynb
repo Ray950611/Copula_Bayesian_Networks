{
 "cells": [
  {
   "cell_type": "code",
   "execution_count": null,
   "metadata": {},
   "outputs": [],
   "source": [
    "#Author:    Rui Ding\n",
    "#Created:   04.07.2020"
   ]
  },
  {
   "cell_type": "code",
   "execution_count": 1,
   "metadata": {},
   "outputs": [],
   "source": [
    "import pandas as pd\n",
    "import datetime\n",
    "import re\n",
    "import urllib\n",
    "def yahoo_Finance_Read(name, startDate, endDate, interval):\n",
    "    #Read stock prices for a single stock\n",
    "    if (interval.lower()==\"weekly\"):\n",
    "        period = \"1wk\"\n",
    "    elif (interval.lower()==\"daily\"):\n",
    "        period = \"1d\"\n",
    "    elif (interval.lower()==\"monthly\"):\n",
    "        period = \"1mo\"\n",
    "    else:\n",
    "        raise ValueError(\"Invalid Period!\")\n",
    "    startD = str(int((datetime.datetime.strptime(startDate, \"%m/%d/%Y\") - datetime.datetime(1970, 1, 1)).total_seconds()))\n",
    "    endD = str(int((datetime.datetime.strptime(endDate, \"%m/%d/%Y\") - datetime.datetime(1970, 1, 1)).total_seconds()))\n",
    "    url = \"https://finance.yahoo.com/quote/\"+ name +\"/history?period1=\" + startD + \"&period2=\" + endD + \"&interval=\" + period + \"&filter=history&frequency=\" + period\n",
    "    temp = urllib.request.urlopen(url).read().decode()\n",
    "    tempsplit = temp.split('{\"date\":')\n",
    "    lst = []\n",
    "    line = tempsplit[-1].split('}')[0]\n",
    "    if 'SPLIT' not in line:\n",
    "        linedata = ','.join(re.split(',|:|}', line)[0:13:2])\n",
    "        linetmp = linedata.split(',')\n",
    "        datenum = int(linetmp[0])\n",
    "        linetmp[0] = datetime.datetime.fromtimestamp(datenum).strftime(\"%m/%d/%Y\")\n",
    "        linedata = ','.join(linetmp)\n",
    "        lst.append(linetmp)\n",
    "    for line in reversed(tempsplit[2:-1]):\n",
    "        if 'SPLIT' in line:\n",
    "            continue\n",
    "        linedata = ','.join(re.split(',|:|}', line)[0:13:2])\n",
    "        linetmp = linedata.split(',')\n",
    "        datenum = int(linetmp[0])\n",
    "        linetmp[0] = datetime.datetime.fromtimestamp(datenum).strftime(\"%m/%d/%Y\")\n",
    "        linedata = ','.join(linetmp)\n",
    "        lst.append(linetmp)\n",
    "    df = pd.DataFrame(lst, columns=['date','open','high','low','close','volume','adjclose'])\n",
    "    df['date'] = pd.to_datetime(df['date'],format=\"%m/%d/%Y\")\n",
    "    if (interval.lower()==\"weekly\"):\n",
    "        while(df['date'][:1][0].weekday()!=4):\n",
    "            df['date'] = df['date'] + datetime.timedelta(1)\n",
    "        if((df['date'].tail(1) > datetime.datetime.today()).bool()):\n",
    "            df = df[:-1]\n",
    "   \n",
    "    return df"
   ]
  },
  {
   "cell_type": "code",
   "execution_count": 6,
   "metadata": {},
   "outputs": [],
   "source": [
    "def yahoo_Finance_read_all(names,start,end,freq):\n",
    "    #Read stock adjusted close prices for a list of stocks\n",
    "    Data = None\n",
    "    flag = False\n",
    "    for i in range(len(names)):\n",
    "        name = names[i]\n",
    "        print(name)\n",
    "        try:\n",
    "            df = yahoo_Finance_Read(name,start,end,freq)\n",
    "            dates=df['date'].values\n",
    "            if not flag:\n",
    "                Data = np.zeros((len(dates),len(names)))\n",
    "                flag = True\n",
    "            C=df['adjclose'].values\n",
    "            Data[:,i] = C\n",
    "        except:\n",
    "            pass\n",
    "    return Data"
   ]
  },
  {
   "cell_type": "code",
   "execution_count": 7,
   "metadata": {},
   "outputs": [],
   "source": [
    "#Get Dow Jones 30 list\n",
    "l = pd.read_table('Dow Jones 30.txt',header=None)\n",
    "list_stocks=l.values.reshape(1,-1)[0]"
   ]
  },
  {
   "cell_type": "code",
   "execution_count": 10,
   "metadata": {},
   "outputs": [
    {
     "name": "stdout",
     "output_type": "stream",
     "text": [
      "AXP\n",
      "AAPL\n",
      "BA\n",
      "CAT\n",
      "CSCO\n",
      "CVX\n",
      "XOM\n",
      "GS\n",
      "HD\n",
      "IBM\n",
      "INTC\n",
      "JNJ\n",
      "KO\n",
      "JPM\n",
      "MCD\n",
      "MMM\n",
      "MRK\n",
      "MSFT\n",
      "NKE\n",
      "PFE\n",
      "PG\n",
      "TRV\n",
      "UNH\n",
      "RTX\n",
      "VZ\n",
      "V\n",
      "WBA\n",
      "WMT\n",
      "DIS\n",
      "DOW\n"
     ]
    }
   ],
   "source": [
    "import datetime\n",
    "import numpy as np\n",
    "start = datetime.datetime(2014, 4, 1).strftime('%m/%d/%Y')\n",
    "end = datetime.datetime(2020, 4, 1).strftime('%m/%d/%Y')\n",
    "#Reading in adjusted close for all Dow Jones 30 stocks\n",
    "Data = yahoo_Finance_read_all(list_stocks,start,end,'daily')"
   ]
  },
  {
   "cell_type": "code",
   "execution_count": 47,
   "metadata": {},
   "outputs": [
    {
     "name": "stdout",
     "output_type": "stream",
     "text": [
      "(1511, 30)\n"
     ]
    }
   ],
   "source": [
    "print(Data.shape)\n",
    "Data_ = Data[:,:-1].copy()\n",
    "daily_change = (Data_[1:,:]-Data_[:-1,:])/Data_[:-1:]\n",
    "np.save('DJ_data.npy',daily_change)"
   ]
  },
  {
   "cell_type": "code",
   "execution_count": 48,
   "metadata": {},
   "outputs": [
    {
     "data": {
      "text/plain": [
       "(1510, 29)"
      ]
     },
     "execution_count": 48,
     "metadata": {},
     "output_type": "execute_result"
    }
   ],
   "source": [
    "data = np.load('DJ_data.npy')\n",
    "data.shape"
   ]
  },
  {
   "cell_type": "code",
   "execution_count": 49,
   "metadata": {},
   "outputs": [
    {
     "data": {
      "text/plain": [
       "array([[-0.00593806,  0.00166164,  0.00077996, ...,  0.00789915,\n",
       "         0.00534067,  0.00122586],\n",
       "       [ 0.00641606, -0.00693058,  0.00366306, ...,  0.01115268,\n",
       "         0.00362828,  0.00024493],\n",
       "       [-0.01989445, -0.01293598, -0.01087143, ..., -0.01550121,\n",
       "        -0.00193701, -0.01542428],\n",
       "       ...,\n",
       "       [-0.04887979, -0.04140225, -0.10274164, ..., -0.03656664,\n",
       "        -0.00218537, -0.08504175],\n",
       "       [ 0.01735595,  0.02853795, -0.06000001, ...,  0.02636363,\n",
       "         0.05119548,  0.03526972],\n",
       "       [-0.05162288, -0.00204075, -0.02061991, ...,  0.01306466,\n",
       "        -0.01362965, -0.03206417]])"
      ]
     },
     "execution_count": 49,
     "metadata": {},
     "output_type": "execute_result"
    }
   ],
   "source": [
    "data"
   ]
  },
  {
   "cell_type": "code",
   "execution_count": 51,
   "metadata": {},
   "outputs": [],
   "source": [
    "#Read in index data\n",
    "dj = yahoo_Finance_Read('^DJI',start,end,'daily')"
   ]
  },
  {
   "cell_type": "code",
   "execution_count": 60,
   "metadata": {},
   "outputs": [],
   "source": [
    "adj_c = dj['adjclose'].values.astype('float') "
   ]
  },
  {
   "cell_type": "code",
   "execution_count": 62,
   "metadata": {},
   "outputs": [],
   "source": [
    "dj_ret = (adj_c[1:]-adj_c[:-1])/adj_c[:-1]"
   ]
  },
  {
   "cell_type": "code",
   "execution_count": 64,
   "metadata": {},
   "outputs": [],
   "source": [
    "np.save('DJI_ret.npy',dj_ret)"
   ]
  },
  {
   "cell_type": "code",
   "execution_count": 79,
   "metadata": {},
   "outputs": [],
   "source": [
    "#Combine data\n",
    "Full = np.zeros((1510,30))\n",
    "Full[:,1:30] = data\n",
    "Full[:,0] = dj_ret"
   ]
  },
  {
   "cell_type": "code",
   "execution_count": 80,
   "metadata": {},
   "outputs": [],
   "source": [
    "np.save('Full_ret.npy',Full)"
   ]
  },
  {
   "cell_type": "code",
   "execution_count": 81,
   "metadata": {},
   "outputs": [],
   "source": [
    "#Calculate cumulative returns\n",
    "Cum_ret = Full.copy()\n",
    "for i in range(1,len(Full)):\n",
    "    Cum_ret[i,:] = Cum_ret[i,:]+Cum_ret[i-1,:]\n",
    "Drawdown = np.zeros((Cum_ret.shape))"
   ]
  },
  {
   "cell_type": "code",
   "execution_count": 82,
   "metadata": {},
   "outputs": [],
   "source": [
    "#Calculate drawdowns\n",
    "for i in range(len(Drawdown)):\n",
    "    for j in range(len(Drawdown[0])):\n",
    "        hist = Cum_ret[:i+1,j]\n",
    "        Drawdown[i,j] = max(hist)-Cum_ret[i,j]"
   ]
  },
  {
   "cell_type": "code",
   "execution_count": 92,
   "metadata": {},
   "outputs": [],
   "source": [
    "np.save('Drawdown.npy',Drawdown)"
   ]
  },
  {
   "cell_type": "code",
   "execution_count": 89,
   "metadata": {},
   "outputs": [],
   "source": [
    "names = np.array(['DJI']+list(list_stocks[:-1]))\n",
    "np.save('list_names.npy',names)"
   ]
  },
  {
   "cell_type": "code",
   "execution_count": 91,
   "metadata": {},
   "outputs": [
    {
     "data": {
      "text/plain": [
       "<matplotlib.legend.Legend at 0x1e36c5f4d30>"
      ]
     },
     "execution_count": 91,
     "metadata": {},
     "output_type": "execute_result"
    },
    {
     "data": {
      "image/png": "[encoded data removed]",
      "text/plain": [
       "<Figure size 720x360 with 1 Axes>"
      ]
     },
     "metadata": {},
     "output_type": "display_data"
    }
   ],
   "source": [
    "from matplotlib import pyplot as plt\n",
    "%matplotlib inline\n",
    "plt.figure(figsize=(10,5))\n",
    "plt.title(names[0])\n",
    "plt.plot(Drawdown[:,0],label='Drawdown')\n",
    "plt.plot(Cum_ret[:,0],label='Cumulative Return')\n",
    "plt.legend()"
   ]
  },
  {
   "cell_type": "code",
   "execution_count": null,
   "metadata": {},
   "outputs": [],
   "source": []
  }
 ],
 "metadata": {
  "kernelspec": {
   "display_name": "Python 3",
   "language": "python",
   "name": "python3"
  },
  "language_info": {
   "codemirror_mode": {
    "name": "ipython",
    "version": 3
   },
   "file_extension": ".py",
   "mimetype": "text/x-python",
   "name": "python",
   "nbconvert_exporter": "python",
   "pygments_lexer": "ipython3",
   "version": "3.6.2"
  }
 },
 "nbformat": 4,
 "nbformat_minor": 2
}
